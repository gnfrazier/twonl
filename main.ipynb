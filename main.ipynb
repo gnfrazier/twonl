{
 "cells": [
  {
   "cell_type": "markdown",
   "metadata": {},
   "source": [
    "## The Walks of Nathan Lowell\n",
    "A look at Nate's path to the back gate.\n",
    "\n",
    "The journey begins [#tommw](https://www.nathanlowell.com/tommw/)"
   ]
  },
  {
   "cell_type": "code",
   "execution_count": 1,
   "metadata": {},
   "outputs": [],
   "source": [
    "from io import BytesIO\n",
    "from PIL import Image\n",
    "import json\n",
    "\n",
    "from bs4 import BeautifulSoup\n",
    "import requests\n",
    "\n",
    "import photo as pto"
   ]
  },
  {
   "cell_type": "markdown",
   "metadata": {},
   "source": [
    "[#tommw](https://www.nathanlowell.com/tommw/) is a cross channel social media campaign architeched and executed by science fiction author Nathan Lowell. \n",
    "\n",
    "There are 4 planks to Nathan's campain:\n",
    "1. A blog hosted at https://www.nathanlowell.com/tommw/\n",
    "2. A photo stream hosted on [FlickR](https://www.flickr.com/photos/nlowell/)\n",
    "3. Podcast feed via [RSS](http://www.nathanlowell.com/tommw/feed/)\n",
    "4. Posts to twitter with the #tommw hastag on [@nlowell on twitter](https://twitter.com/nlowell)"
   ]
  },
  {
   "cell_type": "code",
   "execution_count": 2,
   "metadata": {},
   "outputs": [
    {
     "name": "stdout",
     "output_type": "stream",
     "text": [
      "no archived file\n"
     ]
    }
   ],
   "source": [
    "# Load the archive file\n",
    "try:\n",
    "    with open('archive.json', 'r') as file:\n",
    "        archive= json.loads(file.read())\n",
    "except:\n",
    "    archive = {}\n",
    "    print('no archived file')\n",
    "        \n",
    "# Scrape the blog for links to the other media components\n",
    "blog_page = requests.get(\"https://www.nathanlowell.com/tommw/\")\n",
    "soup = BeautifulSoup(blog_page.text, 'html.parser')\n",
    "\n",
    "# Find a flickr link\n",
    "flickr = soup.find_all(href=True, attrs={'data-flickr-embed':'true'})\n",
    "flickr_link = flickr[0]['href']"
   ]
  },
  {
   "cell_type": "code",
   "execution_count": 3,
   "metadata": {},
   "outputs": [],
   "source": [
    "def process_photo_stream_page(stream):\n",
    "    \n",
    "    for photo in stream:\n",
    "        image_name = photo.split('/')[-1]\n",
    "        photo_id = image_name.split('_')[0]\n",
    "\n",
    "        if archive.get(photo_id):\n",
    "            # skip photos already recorded\n",
    "            continue\n",
    "\n",
    "        thumb_name = photo_id + '.jpg'\n",
    "\n",
    "        info = pto.get_original_photo(photo_id)\n",
    "\n",
    "        if info:\n",
    "            info['photo_id'] = photo_id\n",
    "            info['thumb'] = thumb_name\n",
    "            p_url = info.get('link')\n",
    "            camera, timestamp = pto.get_exif(p_url)\n",
    "            info['camera'] = camera\n",
    "            info['timestamp'] = timestamp\n",
    "            archive[photo_id] = info\n",
    "            print(photo_id + ' added')\n",
    "\n",
    "        else:\n",
    "            print('no #tommow tag found')\n",
    "            \n",
    "    return True"
   ]
  },
  {
   "cell_type": "code",
   "execution_count": 4,
   "metadata": {},
   "outputs": [
    {
     "name": "stdout",
     "output_type": "stream",
     "text": [
      "45538428704 added\n",
      "32390140018 added\n",
      "31253793227 added\n",
      "46180203671 added\n",
      "32292571558 added\n",
      "31207048157 added\n",
      "46117344171 added\n",
      "44213546090 added\n",
      "45104952125 added\n",
      "32116506418 added\n",
      "44077082110 added\n",
      "30922848627 added\n",
      "30906651997 added\n",
      "45747471562 added\n",
      "45716342292 added\n",
      "45700451932 added\n",
      "45008315434 added\n",
      "43897749190 added\n",
      "31825102818 added\n",
      "30740491377 added\n",
      "30725706957 added\n",
      "45531832902 added\n",
      "44474828355 added\n",
      "44405595765 added\n"
     ]
    },
    {
     "data": {
      "text/plain": [
       "True"
      ]
     },
     "execution_count": 4,
     "metadata": {},
     "output_type": "execute_result"
    }
   ],
   "source": [
    "stream = pto.get_photostream(flickr_link)\n",
    "process_photo_stream_page(stream)"
   ]
  },
  {
   "cell_type": "code",
   "execution_count": 6,
   "metadata": {},
   "outputs": [],
   "source": [
    "with open('archive.json', 'w') as file:\n",
    "    file.write(json.dumps(archive, indent=4))"
   ]
  },
  {
   "cell_type": "markdown",
   "metadata": {},
   "source": [
    "Archive File Structure\n",
    "\n",
    "``` python\n",
    "{'id':'123456789','info':{'timestamp':'2018-12-10 10:21', ...}}\n",
    "```\n"
   ]
  }
 ],
 "metadata": {
  "kernelspec": {
   "display_name": "Python 3",
   "language": "python",
   "name": "python3"
  },
  "language_info": {
   "codemirror_mode": {
    "name": "ipython",
    "version": 3
   },
   "file_extension": ".py",
   "mimetype": "text/x-python",
   "name": "python",
   "nbconvert_exporter": "python",
   "pygments_lexer": "ipython3",
   "version": "3.6.5"
  }
 },
 "nbformat": 4,
 "nbformat_minor": 2
}
